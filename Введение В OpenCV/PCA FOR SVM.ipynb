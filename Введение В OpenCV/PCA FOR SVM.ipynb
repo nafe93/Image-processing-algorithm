{
 "cells": [
  {
   "cell_type": "code",
   "execution_count": 1,
   "metadata": {},
   "outputs": [],
   "source": [
    "import os\n",
    "import cv2\n",
    "import numpy as np \n",
    "import matplotlib.pyplot as plt\n",
    "import seaborn as sns"
   ]
  },
  {
   "cell_type": "code",
   "execution_count": 2,
   "metadata": {},
   "outputs": [],
   "source": [
    "def histogram(img, _return = 0):\n",
    "    hist = cv2.calcHist([img],[0],None,[256],[0,256])\n",
    "    plt.plot(hist)\n",
    "    if _return == 1:\n",
    "        return hist"
   ]
  },
  {
   "cell_type": "markdown",
   "metadata": {},
   "source": [
    "# PCA метод главных компонент"
   ]
  },
  {
   "cell_type": "markdown",
   "metadata": {},
   "source": [
    "1. Найдите pca каждого изображения в обучающем наборе и сохраните его в массиве. Это может быть список списков\n",
    "2. Сохранять метки классов в другом списке\n",
    "3. Передать это в качестве аргумента в SVM"
   ]
  },
  {
   "cell_type": "code",
   "execution_count": 4,
   "metadata": {},
   "outputs": [
    {
     "data": {
      "image/png": "[encoded data removed]",
      "text/plain": [
       "<Figure size 432x288 with 1 Axes>"
      ]
     },
     "metadata": {
      "needs_background": "light"
     },
     "output_type": "display_data"
    }
   ],
   "source": [
    "in_matrix = None\n",
    "for f in os.listdir('../Data'):\n",
    "    if 'jpg' in f:\n",
    "        im = cv2.imread(os.path.join('../Data', f))\n",
    "        im = cv2.cvtColor(im, cv2.COLOR_BGR2GRAY)\n",
    "        # view\n",
    "        histogram(im)\n",
    "        \n",
    "        w, h = im.shape\n",
    "        vec = im.reshape(w * h)\n",
    "        \n",
    "        try:\n",
    "            in_matrix = np.vstack((in_matrix, vec))\n",
    "        except:\n",
    "            in_matrix = vec\n",
    "\n",
    "# PCA \n",
    "if in_matrix is not None:\n",
    "    mean, eigenvectors = cv2.PCACompute(in_matrix, np.mean(in_matrix, axis=0).reshape(1,-1))  "
   ]
  },
  {
   "cell_type": "code",
   "execution_count": 5,
   "metadata": {},
   "outputs": [
    {
     "data": {
      "text/plain": [
       "array([[64.605415]], dtype=float32)"
      ]
     },
     "execution_count": 5,
     "metadata": {},
     "output_type": "execute_result"
    }
   ],
   "source": [
    "mean"
   ]
  },
  {
   "cell_type": "code",
   "execution_count": 8,
   "metadata": {},
   "outputs": [
    {
     "data": {
      "text/plain": [
       "array([[ 51,  51,  51, ..., 114, 104,  98],\n",
       "       [ 42,  42,  42, ..., 112, 105, 100],\n",
       "       [ 39,  39,  40, ..., 111, 104, 100],\n",
       "       ...,\n",
       "       [  8,   6,   4, ...,  29,  29,  28],\n",
       "       [ 11,   8,   5, ...,  26,  26,  25],\n",
       "       [ 12,   9,   5, ...,  24,  24,  24]], dtype=uint8)"
      ]
     },
     "execution_count": 8,
     "metadata": {},
     "output_type": "execute_result"
    }
   ],
   "source": [
    "in_matrix.reshape(w, h)"
   ]
  },
  {
   "cell_type": "code",
   "execution_count": null,
   "metadata": {},
   "outputs": [],
   "source": []
  }
 ],
 "metadata": {
  "kernelspec": {
   "display_name": "Python 3",
   "language": "python",
   "name": "python3"
  },
  "language_info": {
   "codemirror_mode": {
    "name": "ipython",
    "version": 3
   },
   "file_extension": ".py",
   "mimetype": "text/x-python",
   "name": "python",
   "nbconvert_exporter": "python",
   "pygments_lexer": "ipython3",
   "version": "3.7.0"
  }
 },
 "nbformat": 4,
 "nbformat_minor": 4
}
