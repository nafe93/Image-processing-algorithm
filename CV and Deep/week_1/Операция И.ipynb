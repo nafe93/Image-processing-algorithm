{
 "cells": [
  {
   "cell_type": "code",
   "execution_count": 16,
   "metadata": {},
   "outputs": [],
   "source": [
    "class Neiron():\n",
    "    \n",
    "    def __init__(self, w1, w2, b):\n",
    "        self.w1 = w1\n",
    "        self.w2 = w2\n",
    "        self.b = b\n",
    "        \n",
    "    def output(self, x1, x2):\n",
    "        \n",
    "        if x1 > 0:\n",
    "            x1 = 1\n",
    "        else:\n",
    "            x1 = 0\n",
    "            \n",
    "        if x2 > 0:\n",
    "            x2 = 1\n",
    "        else: \n",
    "            x2 = 0\n",
    "        \n",
    "        f = self.w1 * x1 + self.w2 * x2 + self.b\n",
    "        \n",
    "        if f > 0:\n",
    "            return 1\n",
    "        else:\n",
    "            return 0"
   ]
  },
  {
   "cell_type": "code",
   "execution_count": 17,
   "metadata": {},
   "outputs": [],
   "source": [
    "n = Neiron(1, 1, -1)"
   ]
  },
  {
   "cell_type": "code",
   "execution_count": 18,
   "metadata": {},
   "outputs": [
    {
     "name": "stdout",
     "output_type": "stream",
     "text": [
      "0 0 : 0\n",
      "0 1 : 0\n",
      "1 0 : 0\n",
      "1 1 : 1\n"
     ]
    }
   ],
   "source": [
    "for x1, x2 in [[0, 0], [0, 1], [1, 0], [1, 1]]:\n",
    "    print(x1, x2, \":\", n.output(x1, x2))"
   ]
  },
  {
   "cell_type": "code",
   "execution_count": null,
   "metadata": {},
   "outputs": [],
   "source": []
  }
 ],
 "metadata": {
  "kernelspec": {
   "display_name": "Python 3",
   "language": "python",
   "name": "python3"
  },
  "language_info": {
   "codemirror_mode": {
    "name": "ipython",
    "version": 3
   },
   "file_extension": ".py",
   "mimetype": "text/x-python",
   "name": "python",
   "nbconvert_exporter": "python",
   "pygments_lexer": "ipython3",
   "version": "3.7.0"
  }
 },
 "nbformat": 4,
 "nbformat_minor": 4
}
