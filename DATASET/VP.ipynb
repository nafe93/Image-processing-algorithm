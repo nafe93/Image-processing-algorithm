{
 "cells": [
  {
   "cell_type": "code",
   "execution_count": 1,
   "metadata": {},
   "outputs": [],
   "source": [
    "import os\n",
    "import cv2\n",
    "import numpy as np\n",
    "import matplotlib.pyplot as plt"
   ]
  },
  {
   "cell_type": "code",
   "execution_count": 2,
   "metadata": {},
   "outputs": [],
   "source": [
    "def convert_img_to_png(img):\n",
    "    from PIL import Image\n",
    "    for i in img:\n",
    "        im = Image.open('./img/' + i)\n",
    "        im.save('./img/png/' + i[:-3] + 'png')"
   ]
  },
  {
   "cell_type": "code",
   "execution_count": 3,
   "metadata": {},
   "outputs": [],
   "source": [
    "images = [x for x in os.listdir('./img') if '9645' in x]"
   ]
  },
  {
   "cell_type": "code",
   "execution_count": 4,
   "metadata": {},
   "outputs": [],
   "source": [
    "# convert_img_to_png(images)"
   ]
  },
  {
   "cell_type": "code",
   "execution_count": 5,
   "metadata": {},
   "outputs": [],
   "source": [
    "files_path = os.listdir('./city/9645/')"
   ]
  },
  {
   "cell_type": "code",
   "execution_count": 6,
   "metadata": {},
   "outputs": [],
   "source": [
    "l = []\n",
    "def images_check(files_path):\n",
    "    \n",
    "    for file in files_path:\n",
    "    \n",
    "        f = open('./city/9645/' + file, 'r').read().split(',')\n",
    "\n",
    "#         img = cv2.imread('./img/png/' + file[:-3] + 'png')\n",
    "\n",
    "#         center_coordinates1 = (int(f[0]) * 4, int(f[1]) * 4) \n",
    "#         center_coordinates2 = (int(f[2]) * 4, int(f[3]) * 4) \n",
    "\n",
    "#         radius = 20\n",
    "#         thickness = 2\n",
    "\n",
    "#         img = cv2.circle(img, center_coordinates1, radius, (255, 0, 0), thickness) \n",
    "#         img = cv2.circle(img, center_coordinates2, radius, (255, 0, 0), thickness) \n",
    "\n",
    "#         plt.figure(figsize=(20, 20))\n",
    "#         plt.imshow(img, cmap='gray')\n",
    "#         plt.show()\n",
    "        \n",
    "        l.append([file[:-3] + 'png', int(f[2]) * 4, int(f[3]) * 4 ])"
   ]
  },
  {
   "cell_type": "code",
   "execution_count": 7,
   "metadata": {},
   "outputs": [],
   "source": [
    "images_check(files_path)"
   ]
  },
  {
   "cell_type": "code",
   "execution_count": 9,
   "metadata": {},
   "outputs": [],
   "source": [
    "import pandas as pd"
   ]
  },
  {
   "cell_type": "code",
   "execution_count": 12,
   "metadata": {},
   "outputs": [],
   "source": [
    "df = pd.DataFrame(l, columns=['img', 'x', 'y'])"
   ]
  },
  {
   "cell_type": "code",
   "execution_count": 35,
   "metadata": {},
   "outputs": [],
   "source": [
    "df.to_csv('VP_Alkzir_Nafe.csv')"
   ]
  },
  {
   "cell_type": "code",
   "execution_count": null,
   "metadata": {},
   "outputs": [],
   "source": []
  }
 ],
 "metadata": {
  "kernelspec": {
   "display_name": "Python 3",
   "language": "python",
   "name": "python3"
  },
  "language_info": {
   "codemirror_mode": {
    "name": "ipython",
    "version": 3
   },
   "file_extension": ".py",
   "mimetype": "text/x-python",
   "name": "python",
   "nbconvert_exporter": "python",
   "pygments_lexer": "ipython3",
   "version": "3.7.0"
  }
 },
 "nbformat": 4,
 "nbformat_minor": 4
}
