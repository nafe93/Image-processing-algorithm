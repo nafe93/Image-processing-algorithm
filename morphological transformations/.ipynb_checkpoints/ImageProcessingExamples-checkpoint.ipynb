{
 "cells": [
  {
   "cell_type": "markdown",
   "metadata": {},
   "source": [
    "# Лекция 3. Базовые операции анализа и обработки изображений\n",
    "\n",
    "* Введение в программирование методов обработки изображений на языке Python: основные инструменты.\n",
    "* Введение в методы визуализации изображений: автоконтраст, эквализация гистограммы, цветовые шкалы.\n",
    "* Фильтрация изображений. Линейные фильтры. Фильтры, сохраняющие границы.\n",
    "* Морфологический анализ изображений:\n",
    "    * Серая морфология: зрозия, дилатация и производные операции. \n",
    "    * Бинарная морфология: анализ компонент связности. Примеры: выделение фона, локальное контрастирование, удаление шума.\n",
    "* Выделение линейных особенностей. Виды линейных особенностей. Алгоритм Кэнни.\n"
   ]
  },
  {
   "cell_type": "code",
   "execution_count": null,
   "metadata": {},
   "outputs": [],
   "source": [
    "import imageio\n",
    "import numpy as np\n",
    "\n",
    "im1 = imageio.imread('example1.jpg')\n",
    "im1.shape"
   ]
  },
  {
   "cell_type": "code",
   "execution_count": null,
   "metadata": {},
   "outputs": [],
   "source": [
    "isinstance(im1, np.ndarray)"
   ]
  },
  {
   "cell_type": "code",
   "execution_count": null,
   "metadata": {},
   "outputs": [],
   "source": [
    "%matplotlib inline\n",
    "import matplotlib.pyplot as plt\n",
    "plt.imshow(im1)\n"
   ]
  },
  {
   "cell_type": "code",
   "execution_count": null,
   "metadata": {},
   "outputs": [],
   "source": [
    "from PIL import Image\n",
    "import numpy as np\n",
    "\n",
    "def view(img):\n",
    "    if img.dtype != np.uint8:\n",
    "        img = (img * 255).astype(np.uint8)\n",
    "    return Image.fromarray(img)\n",
    "\n",
    "# PIL Image objects are displayed as-is, in full size"
   ]
  },
  {
   "cell_type": "code",
   "execution_count": null,
   "metadata": {},
   "outputs": [],
   "source": [
    "view(im1)"
   ]
  },
  {
   "cell_type": "code",
   "execution_count": null,
   "metadata": {},
   "outputs": [],
   "source": [
    "# Let's look at a grayscale image\n",
    "\n",
    "im2 = imageio.imread('example2.png')\n",
    "im2.shape"
   ]
  },
  {
   "cell_type": "code",
   "execution_count": null,
   "metadata": {},
   "outputs": [],
   "source": [
    "view(im2)"
   ]
  },
  {
   "cell_type": "code",
   "execution_count": null,
   "metadata": {},
   "outputs": [],
   "source": [
    "plt.imshow(im2)"
   ]
  },
  {
   "cell_type": "markdown",
   "metadata": {},
   "source": [
    "### В чем проблема с серыми картинками?\n",
    "\n",
    "* По умолчанию 1-канальные картинки визуализируются не как картинки, а как 2d данные общего вида\n",
    "* Для облегчения восприятия автоматически выбирается диапазон значений и применяется раскраска для обеспечения сравнимости значений в различных точках изображения\n",
    "    * Человек гораздо лучше видит абсолютную цветность, чем абсолютную яркость\n",
    "* Можно экспериментировать с раскрасками для лучшего восприятия информации, создавать свои шкалы\n",
    "* Для plotly: https://plot.ly/python/builtin-colorscales/\n",
    "* Для matplotlib: https://matplotlib.org/examples/color/colormaps_reference.html"
   ]
  },
  {
   "cell_type": "code",
   "execution_count": null,
   "metadata": {},
   "outputs": [],
   "source": [
    "plt.imshow(im2, cmap='rainbow')"
   ]
  },
  {
   "cell_type": "code",
   "execution_count": null,
   "metadata": {},
   "outputs": [],
   "source": [
    "plt.imshow(im2, cmap='gray', vmin=0, vmax=255)"
   ]
  },
  {
   "cell_type": "markdown",
   "metadata": {},
   "source": [
    "### Как из цветного сделать одноканальное\n",
    "\n",
    "* Усреднить каналы\n",
    "* Выбрать один из каналов\n",
    "* Просуммировать с весами\n",
    "* Использовать любую другую предметно-специфичную конструкцию"
   ]
  },
  {
   "cell_type": "code",
   "execution_count": null,
   "metadata": {},
   "outputs": [],
   "source": [
    "im1_gray1 = im1[:, :, 1]  # take green channel\n",
    "im1_gray2 = np.mean(im1, axis=2) # mean channel value\n",
    "plt.figure()\n",
    "plt.imshow(im1)\n",
    "plt.figure()\n",
    "plt.imshow(im1_gray1, cmap='gray')\n",
    "plt.figure()\n",
    "plt.imshow(im1_gray2, cmap='gray')\n",
    "plt.figure()\n",
    "plt.imshow(im1_gray1, cmap='jet')\n",
    "plt.figure()\n",
    "plt.imshow(im1_gray2, cmap='jet')"
   ]
  },
  {
   "cell_type": "markdown",
   "metadata": {},
   "source": [
    "### Улучшение изображения"
   ]
  },
  {
   "cell_type": "code",
   "execution_count": null,
   "metadata": {},
   "outputs": [],
   "source": [
    "im3 = imageio.imread('example3.png')\n",
    "view(im3)"
   ]
  },
  {
   "cell_type": "code",
   "execution_count": null,
   "metadata": {},
   "outputs": [],
   "source": [
    "def autocontrast(img, fixed_zero=True):\n",
    "    if not fixed_zero:\n",
    "        img = img - np.min(img)\n",
    "    return img / np.max(img)\n",
    "\n",
    "view(autocontrast(im3))"
   ]
  },
  {
   "cell_type": "code",
   "execution_count": null,
   "metadata": {},
   "outputs": [],
   "source": [
    "view(autocontrast(im3, fixed_zero=False))"
   ]
  },
  {
   "cell_type": "code",
   "execution_count": null,
   "metadata": {},
   "outputs": [],
   "source": [
    "im3a = im3.copy()\n",
    "im3a[100, 100] = 255\n",
    "im3a[100, 101] = 0\n",
    "view(autocontrast(im3a, fixed_zero=False))"
   ]
  },
  {
   "cell_type": "code",
   "execution_count": null,
   "metadata": {},
   "outputs": [],
   "source": [
    "def autocontrast2(img, fixed_zero=True, qmax=0.99, qmin=0.01):\n",
    "    if not fixed_zero:\n",
    "        img = img - np.quantile(img, qmin)\n",
    "    return np.clip(img / np.quantile(img, qmax), 0, 1)\n",
    "\n",
    "view(autocontrast2(im3a, fixed_zero=False))"
   ]
  },
  {
   "cell_type": "code",
   "execution_count": null,
   "metadata": {},
   "outputs": [],
   "source": [
    "def equalize(img, npoints=11):\n",
    "    quantiles = np.linspace(0, 1, npoints)\n",
    "    return np.interp(img, np.quantile(img, quantiles), quantiles)\n",
    "\n",
    "view(equalize(im3))"
   ]
  },
  {
   "cell_type": "code",
   "execution_count": null,
   "metadata": {},
   "outputs": [],
   "source": [
    "view(im1_gray1)"
   ]
  },
  {
   "cell_type": "code",
   "execution_count": null,
   "metadata": {},
   "outputs": [],
   "source": [
    "view(equalize(im1_gray1))"
   ]
  },
  {
   "cell_type": "code",
   "execution_count": null,
   "metadata": {},
   "outputs": [],
   "source": [
    "plt.figure()\n",
    "plt.hist(im1_gray1.ravel())\n",
    "plt.figure()\n",
    "plt.hist(equalize(im1_gray1.ravel()))"
   ]
  },
  {
   "cell_type": "code",
   "execution_count": null,
   "metadata": {},
   "outputs": [],
   "source": [
    "# More examples here: https://scikit-image.org/docs/dev/auto_examples/color_exposure/plot_equalize.html\n",
    "import skimage.exposure\n",
    "view(skimage.exposure.equalize_hist(im1_gray1))"
   ]
  },
  {
   "cell_type": "code",
   "execution_count": null,
   "metadata": {},
   "outputs": [],
   "source": [
    "# Contrast Limited Adaptive Histogram Equalization (CLAHE)\n",
    "# Nonconsistent in value domain!\n",
    "view(skimage.exposure.equalize_adapthist(im1_gray1))"
   ]
  },
  {
   "cell_type": "code",
   "execution_count": null,
   "metadata": {},
   "outputs": [],
   "source": [
    "view(skimage.exposure.equalize_adapthist(\n",
    "    im1_gray1, clip_limit=0.05, kernel_size=50))"
   ]
  },
  {
   "cell_type": "markdown",
   "metadata": {},
   "source": [
    "(!) В отличие от автоконтраста, эквализация — существенно нелинейное преобразование, так что применять ее в предобработке входов алгоритмов обработки изображений нужно с осторожностью"
   ]
  },
  {
   "cell_type": "code",
   "execution_count": null,
   "metadata": {},
   "outputs": [],
   "source": [
    "vals = im1_gray1.ravel()\n",
    "argsort = np.argsort(vals)\n",
    "vals_eq = skimage.exposure.equalize_hist(im1_gray1).ravel()\n",
    "vals_clahe = skimage.exposure.equalize_adapthist(im1_gray1).ravel()\n",
    "vals_our = equalize(im1_gray1).ravel()\n",
    "\n",
    "# using matplotlib for performance\n",
    "plt.plot(vals[argsort], vals_clahe[argsort], 'r.')\n",
    "plt.plot(vals[argsort], vals_eq[argsort], 'b-')\n",
    "plt.plot(vals[argsort], vals_our[argsort], 'g-')\n",
    "\n",
    "# warning: very heavy plot\n",
    "# fig = go.Figure()\n",
    "# fig.add_trace(go.Scattergl(x=vals[argsort], y=vals_clahe[argsort], name='CLAHE', mode='markers'))\n",
    "# fig.add_trace(go.Scatter(x=vals[argsort], y=vals_eq[argsort], name='hist eq', mode='lines'))"
   ]
  },
  {
   "cell_type": "markdown",
   "metadata": {},
   "source": [
    "## Фильтрация изображений"
   ]
  },
  {
   "cell_type": "markdown",
   "metadata": {},
   "source": [
    "### Линейная фильтрация\n",
    "\n",
    "* Выражается сверткой с ядром\n",
    "* Обладает понятными математическими свойствами\n",
    "    * Особо обратим внимание: сепарабельность\n",
    "* Единственное изотропное (\"круглое\") сепарабельное ядро — Гауссиана \n",
    "    * (и линейная комбинация нескольких)\n",
    "    * Аппроксимация Deriche\n",
    "* Размывает границы\n",
    "  "
   ]
  },
  {
   "cell_type": "markdown",
   "metadata": {},
   "source": [
    "### Нелинейная фильтрация\n",
    "\n",
    "* Билатеральная и им подобная (guided, trilateral, steerable)\n",
    "* Ранговые фильтры\n",
    "    * Медиана\n",
    "* Морфологическая фильтрация\n",
    "    * Эрозия, дилатация, hit-miss transform\n",
    "    * Бинарная\n",
    "        * + Skeletonization\n",
    "        * + Distance transform\n",
    "    * Серая\n",
    "        * Серое обобщение hit-miss transform для распознавания локальных структур\n",
    "    "
   ]
  },
  {
   "cell_type": "markdown",
   "metadata": {},
   "source": [
    "### Grayscale morphology"
   ]
  },
  {
   "cell_type": "code",
   "execution_count": null,
   "metadata": {},
   "outputs": [],
   "source": [
    "import skimage.morphology as skm"
   ]
  },
  {
   "cell_type": "code",
   "execution_count": null,
   "metadata": {},
   "outputs": [],
   "source": [
    "im = im1[:, :, 0]"
   ]
  },
  {
   "cell_type": "code",
   "execution_count": null,
   "metadata": {},
   "outputs": [],
   "source": [
    "view(skm.dilation(im, skm.disk(10)))"
   ]
  },
  {
   "cell_type": "code",
   "execution_count": null,
   "metadata": {},
   "outputs": [],
   "source": [
    "selem = skm.disk(8)\n",
    "view(skm.erosion(skm.dilation(im, selem), selem))"
   ]
  },
  {
   "cell_type": "code",
   "execution_count": null,
   "metadata": {},
   "outputs": [],
   "source": [
    "view(equalize(skm.closing(im, selem) - im))"
   ]
  },
  {
   "cell_type": "code",
   "execution_count": null,
   "metadata": {},
   "outputs": [],
   "source": [
    "view(skm.erosion(im, skm.disk(10)))"
   ]
  },
  {
   "cell_type": "markdown",
   "metadata": {},
   "source": [
    "### Binary morpholory\n",
    "\n",
    "Мощнейшая комбинация инструментов:\n",
    "* Connected component labeling https://scikit-image.org/docs/dev/api/skimage.morphology.html#skimage.morphology.label\n",
    "* Region properties https://scikit-image.org/docs/dev/api/skimage.measure.html#skimage.measure.regionprops\n"
   ]
  },
  {
   "cell_type": "markdown",
   "metadata": {},
   "source": [
    "## Выделение границ\n",
    "\n",
    "* Edges vs. Ridges\n",
    "* Построение карт границ\n",
    "    * Градиент / модуль градиента\n",
    "        * в т.ч. псевдоградиант ди Зензо\n",
    "        * Различные аппроксимации (Roberts' Cross, Sobel)\n",
    "    * Лапласиан / псевдолапласиан\n",
    "    * Морфологический градиент\n",
    "* Тензоры инерции, структуры и границ\n",
    "    * В т.ч. для текстурной классификации / детектирования границ текстур\n",
    "* Canny edge detection"
   ]
  },
  {
   "cell_type": "code",
   "execution_count": null,
   "metadata": {},
   "outputs": [],
   "source": []
  }
 ],
 "metadata": {
  "kernelspec": {
   "display_name": "Python 3",
   "language": "python",
   "name": "python3"
  },
  "language_info": {
   "codemirror_mode": {
    "name": "ipython",
    "version": 3
   },
   "file_extension": ".py",
   "mimetype": "text/x-python",
   "name": "python",
   "nbconvert_exporter": "python",
   "pygments_lexer": "ipython3",
   "version": "3.6.9"
  }
 },
 "nbformat": 4,
 "nbformat_minor": 4
}
